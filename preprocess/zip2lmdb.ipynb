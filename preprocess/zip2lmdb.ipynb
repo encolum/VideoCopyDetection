{
 "cells": [
  {
   "cell_type": "code",
   "execution_count": 1,
   "metadata": {},
   "outputs": [],
   "source": [
    "import os\n",
    "\n",
    "import lmdb\n",
    "import zipfile\n",
    "from tqdm import tqdm\n",
    "import numpy as np\n",
    "import argparse"
   ]
  },
  {
   "cell_type": "code",
   "execution_count": null,
   "metadata": {},
   "outputs": [
    {
     "name": "stdout",
     "output_type": "stream",
     "text": [
      "### Tổng số feeds: 1306\n",
      "### Mẫu: Q100400 Q100401 Q100402 Q100403 Q100404\n"
     ]
    },
    {
     "name": "stderr",
     "output_type": "stream",
     "text": [
      "  0%|          | 0/14 [00:00<?, ?it/s]"
     ]
    },
    {
     "name": "stderr",
     "output_type": "stream",
     "text": [
      "100%|██████████| 14/14 [00:05<00:00,  2.68it/s]"
     ]
    },
    {
     "name": "stdout",
     "output_type": "stream",
     "text": [
      "Tổng số mục: 42591\n"
     ]
    },
    {
     "name": "stderr",
     "output_type": "stream",
     "text": [
      "\n"
     ]
    }
   ],
   "source": [
    "import os\n",
    "import zipfile\n",
    "import lmdb\n",
    "import numpy as np\n",
    "from tqdm import tqdm\n",
    "import argparse\n",
    "import sys\n",
    "import gc\n",
    "import shutil\n",
    "\n",
    "\n",
    "def process_batch(batch, env, start_idx):\n",
    "    with env.begin(write=True) as txn:\n",
    "        for idx, (vid, zip_path) in enumerate(batch):\n",
    "            try:\n",
    "                with zipfile.ZipFile(zip_path, 'r') as handler:\n",
    "                    img_name_list = sorted(handler.namelist())\n",
    "                    for img_name in img_name_list:\n",
    "                        content = handler.read(img_name)\n",
    "                        txn.put(str(start_idx + idx).encode(), content)\n",
    "                        start_idx += 1\n",
    "            except Exception as e:\n",
    "                print(f\"Lỗi xử lý {vid}: {e}\")\n",
    "    return start_idx\n",
    "\n",
    "def main(args):\n",
    "    vid_path = args.vid_path\n",
    "    vid_pattern = args.vid_pattern\n",
    "    lmdb_path = args.lmdb_path\n",
    "    output_path = args.output_path\n",
    "    \n",
    "    lmdb_mapsize = 1e10\n",
    "    if os.path.exists(lmdb_path):\n",
    "        shutil.rmtree(lmdb_path)# Giảm xuống 1GB hoặc thấp hơn nếu cần\n",
    "\n",
    "    with open(vid_path, \"r\", encoding=\"utf-8\") as f:\n",
    "        feeds = [line.strip() for line in f if line.strip()]\n",
    "        feeds.sort()\n",
    "        print(f\"### Tổng số feeds: {len(feeds)}\")\n",
    "        print(f\"### Mẫu: {' '.join(feeds[:5])}\")\n",
    "\n",
    "    os.makedirs(os.path.dirname(lmdb_path), exist_ok=True)\n",
    "    os.makedirs(os.path.dirname(output_path), exist_ok=True)\n",
    "\n",
    "    global_idx = 0\n",
    "    vids = []\n",
    "    intervals = []\n",
    "    batch_size = 100  # Xử lý 100 video mỗi lần\n",
    "\n",
    "    # env = lmdb.open(lmdb_path, map_size=int(lmdb_mapsize), writemap=True, subdir=True)\n",
    "    try:\n",
    "        env = lmdb.open(lmdb_path, map_size=int(lmdb_mapsize), writemap=True, subdir=True)\n",
    "    except lmdb.Error as e:\n",
    "        print(f\"Lỗi khi mở LMDB: {e}\")\n",
    "        raise\n",
    "    \n",
    "    for i in tqdm(range(0, len(feeds), batch_size)):\n",
    "        batch = []\n",
    "        for vid in feeds[i:i+batch_size]:\n",
    "            try:\n",
    "                zip_path = vid_pattern % (vid[-2:], vid)\n",
    "            except Exception:\n",
    "                zip_path = vid_pattern % vid\n",
    "\n",
    "            if os.path.exists(zip_path):\n",
    "                batch.append((vid, zip_path))\n",
    "\n",
    "        start = global_idx\n",
    "        global_idx = process_batch(batch, env, global_idx)\n",
    "        end = global_idx\n",
    "\n",
    "        vids.extend([vid for vid, _ in batch])\n",
    "        intervals.extend([[start + i, start + i + 1] for i in range(end - start)])\n",
    "\n",
    "        # Giải phóng bộ nhớ\n",
    "        gc.collect()\n",
    "\n",
    "    env.close()\n",
    "\n",
    "    number_entries = global_idx\n",
    "    print(f\"Tổng số mục: {number_entries}\")\n",
    "\n",
    "    vids = np.array(vids)\n",
    "    intervals = np.array(intervals)\n",
    "    np.savez(output_path, vids=vids, intervals=intervals)\n",
    "\n",
    "if __name__ == '__main__':\n",
    "    parser = argparse.ArgumentParser()\n",
    "    parser.add_argument(\"--vid_path\", type=str, required=True)\n",
    "    parser.add_argument(\"--vid_pattern\", type=str, required=True)\n",
    "    parser.add_argument(\"--lmdb_path\", type=str, required=True)\n",
    "    parser.add_argument(\"--output_path\", type=str, required=True)\n",
    "\n",
    "    all_videos_id = # File txt tất cả vid id\n",
    "\n",
    "    if 'ipykernel' in sys.modules:\n",
    "        args_dict = {\n",
    "            'vid_path': f\"../data/videos/{all_videos_id}\",\n",
    "            'vid_pattern': \"../data/jpg_zips/%s/%s.zip\",\n",
    "            'lmdb_path': \"../data/lmdb/train_vsc\",\n",
    "            'output_path': \"../data/lmdb/train_vsc/meta\"\n",
    "        }\n",
    "        args = argparse.Namespace(**args_dict)\n",
    "    else:\n",
    "        args = parser.parse_args()\n",
    "    \n",
    "    main(args)"
   ]
  }
 ],
 "metadata": {
  "kernelspec": {
   "display_name": "Python 3",
   "language": "python",
   "name": "python3"
  },
  "language_info": {
   "codemirror_mode": {
    "name": "ipython",
    "version": 3
   },
   "file_extension": ".py",
   "mimetype": "text/x-python",
   "name": "python",
   "nbconvert_exporter": "python",
   "pygments_lexer": "ipython3",
   "version": "3.12.7"
  }
 },
 "nbformat": 4,
 "nbformat_minor": 2
}
